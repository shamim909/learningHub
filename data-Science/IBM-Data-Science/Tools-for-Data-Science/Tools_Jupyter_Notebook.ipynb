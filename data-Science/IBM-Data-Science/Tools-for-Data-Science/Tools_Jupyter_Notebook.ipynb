{
 "cells": [
  {
   "cell_type": "markdown",
   "metadata": {},
   "source": [
    "<center>\n",
    "    <img src=\"https://cf-courses-data.s3.us.cloud-object-storage.appdomain.cloud/IBMDeveloperSkillsNetwork-DS0105EN-SkillsNetwork/labs/Module2/images/SN_web_lightmode.png\" width=\"300\" alt=\"cognitiveclass.ai logo\">\n",
    "</center>\n"
   ]
  },
  {
   "cell_type": "markdown",
   "metadata": {},
   "source": [
    "#### Add your code below following the instructions given in the course\n"
   ]
  },
  {
   "cell_type": "code",
   "execution_count": 4,
   "metadata": {
    "tags": []
   },
   "outputs": [],
   "source": [
    "# Tools for Data Science - Final assignment"
   ]
  },
  {
   "cell_type": "code",
   "execution_count": 5,
   "metadata": {
    "tags": []
   },
   "outputs": [],
   "source": [
    "## introduction"
   ]
  },
  {
   "cell_type": "code",
   "execution_count": null,
   "metadata": {
    "tags": []
   },
   "outputs": [],
   "source": [
    "## Data Science Languages as follows\n",
    "\n",
    "1. **Python**\n",
    "2. **R**\n",
    "3. **Julia**\n",
    "4. **Scala**\n",
    "5. **SQL**"
   ]
  },
  {
   "cell_type": "code",
   "execution_count": null,
   "metadata": {},
   "outputs": [],
   "source": [
    "## Popular Data Science Libraries\n",
    "\n",
    "1. **Pandas**: For data manipulation and analysis.\n",
    "2. **NumPy**: For numerical computations.\n",
    "3. **Matplotlib**: For creating static, animated, and interactive visualizations.\n",
    "4. **Seaborn**: For statistical data visualization based on Matplotlib.\n",
    "5. **Scikit-learn**: For machine learning and statistical modeling.\n",
    "6. **TensorFlow**: For machine learning and deep learning.\n",
    "7. **Keras**: For neural networks API, capable of running on top of TensorFlow.\n",
    "8. **PyTorch**: For machine learning and deep learning.\n",
    "9. **NLTK**: For working with human language data.\n",
    "10. **Spacy**: For Natural Language Processing."
   ]
  },
  {
   "cell_type": "code",
   "execution_count": null,
   "metadata": {},
   "outputs": [],
   "source": [
    "## Data Science Tools\n",
    "\n",
    "| Tool | Description |\n",
    "| --- | --- |\n",
    "| **Python** | A high-level, interpreted programming language with easy syntax. |\n",
    "| **R** | A language and environment for statistical computing and graphics. |\n",
    "| **SQL** | A standard language for managing data held in relational database management systems. |\n",
    "| **Excel** | A spreadsheet developed by Microsoft for Windows, macOS, Android and iOS. |\n",
    "| **Tableau** | A data visualization tool that allows you to interact with your data. |\n",
    "| **Power BI** | A business analytics tool developed by Microsoft. |\n",
    "| **Matlab** | A multi-paradigm numerical computing environment and proprietary programming language developed by MathWorks. |"
   ]
  },
  {
   "cell_type": "code",
   "execution_count": null,
   "metadata": {},
   "outputs": [],
   "source": [
    "## Arithmetic Expression Examples\n",
    "\n",
    "Arithmetic expressions are used to perform mathematical operations like addition, subtraction, multiplication, and division. \n",
    "Here are some examples:\n",
    "\n",
    "1. **Addition**: `1 + 2` equals `3`\n",
    "2. **Subtraction**: `2- 1` equals `1`\n",
    "3. **Multiplication**: `1 * 2` equals `2`\n",
    "4. **Division**: `4 / 2` equals `2`\n",
    "5. **Exponentiation**: `2 ** 2` equals `8`\n",
    "6. **Modulus**: `3 % 2` equals `1`\n",
    "7. **Floor Division**: `3 // 2` equals `1`"
   ]
  },
  {
   "cell_type": "code",
   "execution_count": 7,
   "metadata": {
    "tags": []
   },
   "outputs": [
    {
     "name": "stdout",
     "output_type": "stream",
     "text": [
      "9 X 2 = 18\n",
      "9 + 2 = 11\n"
     ]
    }
   ],
   "source": [
    "# Define the numbers\n",
    "num1 = 9\n",
    "num2 = 2\n",
    "\n",
    "# Multiply the numbers\n",
    "product = num1 * num2\n",
    "print(f\"{num1} X {num2} = {product}\")\n",
    "\n",
    "# Add the numbers\n",
    "sum = num1 + num2\n",
    "print(f\"{num1} + {num2} = {sum}\")"
   ]
  },
  {
   "cell_type": "code",
   "execution_count": 9,
   "metadata": {
    "tags": []
   },
   "outputs": [
    {
     "name": "stdout",
     "output_type": "stream",
     "text": [
      "90 min = 1 Hour(s) 30 min\n"
     ]
    }
   ],
   "source": [
    "# Define the min\n",
    "min = 90\n",
    "# covert into hours\n",
    "hrs=min//60\n",
    "lmin=min-(hrs*60)\n",
    "print(f\"{min} min = {hrs} Hour(s) {lmin} min\")"
   ]
  },
  {
   "cell_type": "code",
   "execution_count": null,
   "metadata": {},
   "outputs": [],
   "source": [
    "## Objectives\n",
    "\n",
    "1. **Objective 1**: \n",
    "2. **Objective 2**: "
   ]
  },
  {
   "cell_type": "code",
   "execution_count": null,
   "metadata": {},
   "outputs": [],
   "source": [
    "## Author\n",
    "\n",
    "**Md Shamimuddin**"
   ]
  }
 ],
 "metadata": {
  "kernelspec": {
   "display_name": "Python",
   "language": "python",
   "name": "conda-env-python-py"
  },
  "language_info": {
   "codemirror_mode": {
    "name": "ipython",
    "version": 3
   },
   "file_extension": ".py",
   "mimetype": "text/x-python",
   "name": "python",
   "nbconvert_exporter": "python",
   "pygments_lexer": "ipython3",
   "version": "3.7.12"
  }
 },
 "nbformat": 4,
 "nbformat_minor": 4
}
